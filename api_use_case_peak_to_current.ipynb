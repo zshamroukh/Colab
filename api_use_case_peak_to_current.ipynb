{
  "nbformat": 4,
  "nbformat_minor": 0,
  "metadata": {
    "colab": {
      "provenance": [],
      "include_colab_link": true
    },
    "kernelspec": {
      "name": "python3",
      "display_name": "Python 3"
    },
    "language_info": {
      "name": "python"
    }
  },
  "cells": [
    {
      "cell_type": "markdown",
      "metadata": {
        "id": "view-in-github",
        "colab_type": "text"
      },
      "source": [
        "<a href=\"https://colab.research.google.com/github/zshamroukh/Colab/blob/main/api_use_case_peak_to_current.ipynb\" target=\"_parent\"><img src=\"https://colab.research.google.com/assets/colab-badge.svg\" alt=\"Open In Colab\"/></a>"
      ]
    },
    {
      "cell_type": "markdown",
      "source": [
        "# Contextual Insights in 3 Steps via the Parcl Labs API"
      ],
      "metadata": {
        "id": "6STqmenOExTF"
      }
    },
    {
      "cell_type": "markdown",
      "source": [
        "#Step 1: Register for the API"
      ],
      "metadata": {
        "id": "UedNEQs7FLwC"
      }
    },
    {
      "cell_type": "markdown",
      "source": [
        "You can retrieve Parcl Labs API data with only a couple lines of GraphQL code. For demonstration purposes here we will show you a use case using Python, one of the most popular programming languages for data analysis, but the API can be used in combination with your favorite tech stack. Once you’ve received your key, by signing up [here](https://www.parcllabs.com/contact?utm_source=ParclLabs&utm_medium=Blog&utm_campaign=API-USE-CASE-BLOG) for free, you can store it as a variable in Python along with the API URL:"
      ],
      "metadata": {
        "id": "inLvhxoukRFc"
      }
    },
    {
      "cell_type": "code",
      "execution_count": null,
      "metadata": {
        "id": "73hbhtKcBp3e"
      },
      "outputs": [],
      "source": [
        "#Importing the relevant libraries\n",
        "import os\n",
        "import requests\n",
        "import pandas as pd\n",
        "import plotly.express as px\n",
        "\n",
        "#Storing the API credentials as an environment variable\n",
        "url = \"https://api-pilot.parcllabs.com/v1/graphql\"\n",
        "# to set the API key as an environment variable in your CLI issue the following command on MacOS/Linux OS's: export PARCL_LABS_API_PILOT_KEY=\"INSERT_API_KEY_HERE\"\n",
        "bearer_token = os.environ['PARCL_LABS_API_PILOT_KEY']"
      ]
    },
    {
      "cell_type": "markdown",
      "source": [
        "# Step 2: Define the GraphQL query"
      ],
      "metadata": {
        "id": "JyI7fclNFnt_"
      }
    },
    {
      "cell_type": "markdown",
      "source": [
        "By accessing the price feed through the API, we can explore the price feed fluctuations in the Case Schiller 20 MSAs (metropolitan statistical areas) for 2022. Specifically, in just a few lines of code, we can extract the 2022 peak and current price feed values, and calculate the percentage change."
      ],
      "metadata": {
        "id": "gCY3Ay81kaCT"
      }
    },
    {
      "cell_type": "markdown",
      "source": [
        "First we name our query, in this case PEAK_TO_CURRENT_2022, and then we can query all MSAs in the MSA table (see the Parcl Labs API docs for a comprehensive list of geographies and objects available in the API). In the pilot MSA only the Case Schiller 20 MSAs are available.\n",
        "\n"
      ],
      "metadata": {
        "id": "gfC_Elc71RqZ"
      }
    },
    {
      "cell_type": "markdown",
      "source": [
        "After defining the level of geography, the columns we output from the MSA table are MSA_NAME and PARCL_ID (our unique identifier of different levels of geography). Within the MSA geographies is a nested table, parcl_price_feed, containing the price feed for each day. In the example below we pull in the most recent price feed, in addition to the max price that occurred in 2022. This is what the query would look like:"
      ],
      "metadata": {
        "id": "mWB6aevAGJT0"
      }
    },
    {
      "cell_type": "code",
      "source": [
        "#Storing the query to get the current and 2022 peak prices for the CS 20 MSAs\n",
        "query = \"\"\"\n",
        "query PEAK_TO_CURRENT_2022 {\n",
        "  MSA {\n",
        "    MSA_NAME\n",
        "    PARCL_ID\n",
        "    parcl_price_feed(order_by: {DATE: desc}, limit: 1) {\n",
        "      PARCL_PRICE_FEED\n",
        "    }\n",
        "    parcl_price_feed_aggregate(where: {DATE: {_gt: \"01/01/2022\"}}) {\n",
        "       aggregate {\n",
        "       \tmax {\n",
        "           PARCL_PRICE_FEED\n",
        "         }\n",
        "       }\n",
        "     }\n",
        "  }\n",
        "}\n",
        "\"\"\""
      ],
      "metadata": {
        "id": "EvDB5njGZzIi"
      },
      "execution_count": null,
      "outputs": []
    },
    {
      "cell_type": "markdown",
      "source": [
        "#Step 3: Call the API and visualize the results"
      ],
      "metadata": {
        "id": "uWj-RCwNHY16"
      }
    },
    {
      "cell_type": "markdown",
      "source": [
        "Once you have plugged in your query, the URL and API key you can call the API with Python:"
      ],
      "metadata": {
        "id": "sYc8E5nvkfBu"
      }
    },
    {
      "cell_type": "code",
      "source": [
        "# Call the API using our query and credentials\n",
        "response = requests.post(\n",
        "   url=url,\n",
        "   json={\n",
        "     \"query\": query\n",
        "   },\n",
        "   headers={\n",
        "     \"Authorization\": f\"Bearer {bearer_token}\",\n",
        "     'content-type': \"application/json\"\n",
        "   }\n",
        ")\n",
        " \n",
        "# Parse the JSON response to native Python object\n",
        "out = response.json()\n",
        "data = out['data']['MSA']"
      ],
      "metadata": {
        "id": "se_sRPsjkjhc"
      },
      "execution_count": null,
      "outputs": []
    },
    {
      "cell_type": "markdown",
      "source": [
        "The next step is to flatten the JSON response into a dataframe and calculate the percent difference between the peak and current prices:"
      ],
      "metadata": {
        "id": "emSuyujXksu_"
      }
    },
    {
      "cell_type": "code",
      "source": [
        "#Pull the data into a dataframe and calculate the delta \n",
        "PEAK_TO_CURRENT_2022_df = pd.json_normalize(\n",
        "    data,\n",
        "    'parcl_price_feed',\n",
        "    ['MSA_NAME', 'PARCL_ID', ['parcl_price_feed_aggregate', 'aggregate', 'max', 'PARCL_PRICE_FEED']]\n",
        ")\n",
        "\n",
        "PEAK_TO_CURRENT_2022_df.rename(columns={'PARCL_PRICE_FEED': 'Current PLPF', 'parcl_price_feed_aggregate.aggregate.max.PARCL_PRICE_FEED': '2022 Peak PLPF'}, inplace=True)\n",
        "PEAK_TO_CURRENT_2022_df['Percent Delta'] = ((PEAK_TO_CURRENT_2022_df['Current PLPF'] - PEAK_TO_CURRENT_2022_df['2022 Peak PLPF']) / PEAK_TO_CURRENT_2022_df['2022 Peak PLPF'] * 100)\n",
        "PEAK_TO_CURRENT_2022_df[['Percent Delta', '2022 Peak PLPF', 'Current PLPF']] = PEAK_TO_CURRENT_2022_df[['Percent Delta', '2022 Peak PLPF', 'Current PLPF']].astype(float).round(2)\n",
        "PEAK_TO_CURRENT_2022_df = PEAK_TO_CURRENT_2022_df.sort_values(by=['Percent Delta'], ascending=True)\n",
        "\n",
        "print(PEAK_TO_CURRENT_2022_df)"
      ],
      "metadata": {
        "id": "89yYfFFfku5m",
        "colab": {
          "base_uri": "https://localhost:8080/"
        },
        "outputId": "97547f7b-8b00-4d14-da48-76437e2227f6"
      },
      "execution_count": null,
      "outputs": [
        {
          "output_type": "stream",
          "name": "stdout",
          "text": [
            "    Current PLPF                                      MSA_NAME PARCL_ID  \\\n",
            "4         177.21          Atlanta-Sandy Springs-Alpharetta, GA  2887280   \n",
            "13        112.01               Dallas-Fort Worth-Arlington, TX  2899734   \n",
            "11        368.36                   Seattle-Tacoma-Bellevue, WA  2900353   \n",
            "9         502.16            San Diego-Chula Vista-Carlsbad, CA  2900332   \n",
            "0         664.59            San Francisco-Oakland-Berkeley, CA  2900336   \n",
            "1         339.80                Boston-Cambridge-Newton, MA-NH  2899625   \n",
            "2         225.31              Las Vegas-Henderson-Paradise, NV  2900049   \n",
            "14        316.66         New York-Newark-Jersey City, NY-NJ-PA  2900187   \n",
            "6         290.68                    Denver-Aurora-Lakewood, CO  2899750   \n",
            "10        209.11           Tampa-St. Petersburg-Clearwater, FL  2900417   \n",
            "18        522.65            Los Angeles-Long Beach-Anaheim, CA  2900078   \n",
            "16        287.58           Portland-Vancouver-Hillsboro, OR-WA  2900266   \n",
            "3         287.69       Miami-Fort Lauderdale-Pompano Beach, FL  2900128   \n",
            "8         247.06                     Phoenix-Mesa-Chandler, AZ  2900245   \n",
            "5         267.06  Washington-Arlington-Alexandria, DC-VA-MD-WV  2900475   \n",
            "17        183.67            Chicago-Naperville-Elgin, IL-IN-WI  2899845   \n",
            "7         194.67       Minneapolis-St. Paul-Bloomington, MN-WI  2900137   \n",
            "19        109.72                          Cleveland-Elyria, OH  2899654   \n",
            "12        195.95             Charlotte-Concord-Gastonia, NC-SC  2899841   \n",
            "15        168.64                   Detroit-Warren-Dearborn, MI  2899753   \n",
            "\n",
            "    2022 Peak PLPF  Percent Delta  \n",
            "4           327.88         -45.95  \n",
            "13          160.02         -30.01  \n",
            "11          446.37         -17.48  \n",
            "9           596.39         -15.80  \n",
            "0           780.76         -14.88  \n",
            "1           394.02         -13.76  \n",
            "2           259.41         -13.15  \n",
            "14          361.82         -12.48  \n",
            "6           332.09         -12.47  \n",
            "10          237.40         -11.92  \n",
            "18          589.89         -11.40  \n",
            "16          322.06         -10.71  \n",
            "3           322.05         -10.67  \n",
            "8           274.38          -9.96  \n",
            "5           292.55          -8.71  \n",
            "17          201.05          -8.65  \n",
            "7           212.78          -8.51  \n",
            "19          118.71          -7.57  \n",
            "12          205.44          -4.62  \n",
            "15          168.64           0.00  \n"
          ]
        }
      ]
    },
    {
      "cell_type": "markdown",
      "source": [
        "And finally visualize it with your choice of visualization libraries, here we use [Plotly](https://plotly.com/):"
      ],
      "metadata": {
        "id": "2la1zOdaEKtq"
      }
    },
    {
      "cell_type": "code",
      "source": [
        "#Plot the percent delta for the MSAs\n",
        "PEAK_CURRENT_fig = px.bar(\n",
        "    PEAK_TO_CURRENT_2022_df,\n",
        "    x='MSA_NAME',\n",
        "    y='Percent Delta',\n",
        "    title='2022 Price Feed Peak Compared to Current Values (11/28/22)',\n",
        "    width=900,\n",
        "    height=500,\n",
        "    color='Percent Delta',\n",
        "    color_continuous_scale=px.colors.sequential.RdBu,\n",
        "    range_color=[-20,0],\n",
        "    labels={\"MSA_NAME\": \"MSA\"}\n",
        ")\n",
        "\n",
        "PEAK_CURRENT_fig.show()"
      ],
      "metadata": {
        "colab": {
          "base_uri": "https://localhost:8080/",
          "height": 517
        },
        "id": "w_uqBuM-EKgG",
        "outputId": "313d0056-2034-4b79-b701-793e12392874"
      },
      "execution_count": null,
      "outputs": [
        {
          "output_type": "display_data",
          "data": {
            "text/html": [
              "<html>\n",
              "<head><meta charset=\"utf-8\" /></head>\n",
              "<body>\n",
              "    <div>            <script src=\"https://cdnjs.cloudflare.com/ajax/libs/mathjax/2.7.5/MathJax.js?config=TeX-AMS-MML_SVG\"></script><script type=\"text/javascript\">if (window.MathJax) {MathJax.Hub.Config({SVG: {font: \"STIX-Web\"}});}</script>                <script type=\"text/javascript\">window.PlotlyConfig = {MathJaxConfig: 'local'};</script>\n",
              "        <script src=\"https://cdn.plot.ly/plotly-2.8.3.min.js\"></script>                <div id=\"a63dcc49-0947-4d28-b35a-02b3ac99bc0a\" class=\"plotly-graph-div\" style=\"height:500px; width:900px;\"></div>            <script type=\"text/javascript\">                                    window.PLOTLYENV=window.PLOTLYENV || {};                                    if (document.getElementById(\"a63dcc49-0947-4d28-b35a-02b3ac99bc0a\")) {                    Plotly.newPlot(                        \"a63dcc49-0947-4d28-b35a-02b3ac99bc0a\",                        [{\"alignmentgroup\":\"True\",\"hovertemplate\":\"MSA=%{x}<br>Percent Delta=%{marker.color}<extra></extra>\",\"legendgroup\":\"\",\"marker\":{\"color\":[-45.95,-30.01,-17.48,-15.8,-14.88,-13.76,-13.15,-12.48,-12.47,-11.92,-11.4,-10.71,-10.67,-9.96,-8.71,-8.65,-8.51,-7.57,-4.62,0.0],\"coloraxis\":\"coloraxis\",\"pattern\":{\"shape\":\"\"}},\"name\":\"\",\"offsetgroup\":\"\",\"orientation\":\"v\",\"showlegend\":false,\"textposition\":\"auto\",\"x\":[\"Atlanta-Sandy Springs-Alpharetta, GA\",\"Dallas-Fort Worth-Arlington, TX\",\"Seattle-Tacoma-Bellevue, WA\",\"San Diego-Chula Vista-Carlsbad, CA\",\"San Francisco-Oakland-Berkeley, CA\",\"Boston-Cambridge-Newton, MA-NH\",\"Las Vegas-Henderson-Paradise, NV\",\"New York-Newark-Jersey City, NY-NJ-PA\",\"Denver-Aurora-Lakewood, CO\",\"Tampa-St. Petersburg-Clearwater, FL\",\"Los Angeles-Long Beach-Anaheim, CA\",\"Portland-Vancouver-Hillsboro, OR-WA\",\"Miami-Fort Lauderdale-Pompano Beach, FL\",\"Phoenix-Mesa-Chandler, AZ\",\"Washington-Arlington-Alexandria, DC-VA-MD-WV\",\"Chicago-Naperville-Elgin, IL-IN-WI\",\"Minneapolis-St. Paul-Bloomington, MN-WI\",\"Cleveland-Elyria, OH\",\"Charlotte-Concord-Gastonia, NC-SC\",\"Detroit-Warren-Dearborn, MI\"],\"xaxis\":\"x\",\"y\":[-45.95,-30.01,-17.48,-15.8,-14.88,-13.76,-13.15,-12.48,-12.47,-11.92,-11.4,-10.71,-10.67,-9.96,-8.71,-8.65,-8.51,-7.57,-4.62,0.0],\"yaxis\":\"y\",\"type\":\"bar\"}],                        {\"template\":{\"data\":{\"bar\":[{\"error_x\":{\"color\":\"#2a3f5f\"},\"error_y\":{\"color\":\"#2a3f5f\"},\"marker\":{\"line\":{\"color\":\"#E5ECF6\",\"width\":0.5},\"pattern\":{\"fillmode\":\"overlay\",\"size\":10,\"solidity\":0.2}},\"type\":\"bar\"}],\"barpolar\":[{\"marker\":{\"line\":{\"color\":\"#E5ECF6\",\"width\":0.5},\"pattern\":{\"fillmode\":\"overlay\",\"size\":10,\"solidity\":0.2}},\"type\":\"barpolar\"}],\"carpet\":[{\"aaxis\":{\"endlinecolor\":\"#2a3f5f\",\"gridcolor\":\"white\",\"linecolor\":\"white\",\"minorgridcolor\":\"white\",\"startlinecolor\":\"#2a3f5f\"},\"baxis\":{\"endlinecolor\":\"#2a3f5f\",\"gridcolor\":\"white\",\"linecolor\":\"white\",\"minorgridcolor\":\"white\",\"startlinecolor\":\"#2a3f5f\"},\"type\":\"carpet\"}],\"choropleth\":[{\"colorbar\":{\"outlinewidth\":0,\"ticks\":\"\"},\"type\":\"choropleth\"}],\"contour\":[{\"colorbar\":{\"outlinewidth\":0,\"ticks\":\"\"},\"colorscale\":[[0.0,\"#0d0887\"],[0.1111111111111111,\"#46039f\"],[0.2222222222222222,\"#7201a8\"],[0.3333333333333333,\"#9c179e\"],[0.4444444444444444,\"#bd3786\"],[0.5555555555555556,\"#d8576b\"],[0.6666666666666666,\"#ed7953\"],[0.7777777777777778,\"#fb9f3a\"],[0.8888888888888888,\"#fdca26\"],[1.0,\"#f0f921\"]],\"type\":\"contour\"}],\"contourcarpet\":[{\"colorbar\":{\"outlinewidth\":0,\"ticks\":\"\"},\"type\":\"contourcarpet\"}],\"heatmap\":[{\"colorbar\":{\"outlinewidth\":0,\"ticks\":\"\"},\"colorscale\":[[0.0,\"#0d0887\"],[0.1111111111111111,\"#46039f\"],[0.2222222222222222,\"#7201a8\"],[0.3333333333333333,\"#9c179e\"],[0.4444444444444444,\"#bd3786\"],[0.5555555555555556,\"#d8576b\"],[0.6666666666666666,\"#ed7953\"],[0.7777777777777778,\"#fb9f3a\"],[0.8888888888888888,\"#fdca26\"],[1.0,\"#f0f921\"]],\"type\":\"heatmap\"}],\"heatmapgl\":[{\"colorbar\":{\"outlinewidth\":0,\"ticks\":\"\"},\"colorscale\":[[0.0,\"#0d0887\"],[0.1111111111111111,\"#46039f\"],[0.2222222222222222,\"#7201a8\"],[0.3333333333333333,\"#9c179e\"],[0.4444444444444444,\"#bd3786\"],[0.5555555555555556,\"#d8576b\"],[0.6666666666666666,\"#ed7953\"],[0.7777777777777778,\"#fb9f3a\"],[0.8888888888888888,\"#fdca26\"],[1.0,\"#f0f921\"]],\"type\":\"heatmapgl\"}],\"histogram\":[{\"marker\":{\"pattern\":{\"fillmode\":\"overlay\",\"size\":10,\"solidity\":0.2}},\"type\":\"histogram\"}],\"histogram2d\":[{\"colorbar\":{\"outlinewidth\":0,\"ticks\":\"\"},\"colorscale\":[[0.0,\"#0d0887\"],[0.1111111111111111,\"#46039f\"],[0.2222222222222222,\"#7201a8\"],[0.3333333333333333,\"#9c179e\"],[0.4444444444444444,\"#bd3786\"],[0.5555555555555556,\"#d8576b\"],[0.6666666666666666,\"#ed7953\"],[0.7777777777777778,\"#fb9f3a\"],[0.8888888888888888,\"#fdca26\"],[1.0,\"#f0f921\"]],\"type\":\"histogram2d\"}],\"histogram2dcontour\":[{\"colorbar\":{\"outlinewidth\":0,\"ticks\":\"\"},\"colorscale\":[[0.0,\"#0d0887\"],[0.1111111111111111,\"#46039f\"],[0.2222222222222222,\"#7201a8\"],[0.3333333333333333,\"#9c179e\"],[0.4444444444444444,\"#bd3786\"],[0.5555555555555556,\"#d8576b\"],[0.6666666666666666,\"#ed7953\"],[0.7777777777777778,\"#fb9f3a\"],[0.8888888888888888,\"#fdca26\"],[1.0,\"#f0f921\"]],\"type\":\"histogram2dcontour\"}],\"mesh3d\":[{\"colorbar\":{\"outlinewidth\":0,\"ticks\":\"\"},\"type\":\"mesh3d\"}],\"parcoords\":[{\"line\":{\"colorbar\":{\"outlinewidth\":0,\"ticks\":\"\"}},\"type\":\"parcoords\"}],\"pie\":[{\"automargin\":true,\"type\":\"pie\"}],\"scatter\":[{\"marker\":{\"colorbar\":{\"outlinewidth\":0,\"ticks\":\"\"}},\"type\":\"scatter\"}],\"scatter3d\":[{\"line\":{\"colorbar\":{\"outlinewidth\":0,\"ticks\":\"\"}},\"marker\":{\"colorbar\":{\"outlinewidth\":0,\"ticks\":\"\"}},\"type\":\"scatter3d\"}],\"scattercarpet\":[{\"marker\":{\"colorbar\":{\"outlinewidth\":0,\"ticks\":\"\"}},\"type\":\"scattercarpet\"}],\"scattergeo\":[{\"marker\":{\"colorbar\":{\"outlinewidth\":0,\"ticks\":\"\"}},\"type\":\"scattergeo\"}],\"scattergl\":[{\"marker\":{\"colorbar\":{\"outlinewidth\":0,\"ticks\":\"\"}},\"type\":\"scattergl\"}],\"scattermapbox\":[{\"marker\":{\"colorbar\":{\"outlinewidth\":0,\"ticks\":\"\"}},\"type\":\"scattermapbox\"}],\"scatterpolar\":[{\"marker\":{\"colorbar\":{\"outlinewidth\":0,\"ticks\":\"\"}},\"type\":\"scatterpolar\"}],\"scatterpolargl\":[{\"marker\":{\"colorbar\":{\"outlinewidth\":0,\"ticks\":\"\"}},\"type\":\"scatterpolargl\"}],\"scatterternary\":[{\"marker\":{\"colorbar\":{\"outlinewidth\":0,\"ticks\":\"\"}},\"type\":\"scatterternary\"}],\"surface\":[{\"colorbar\":{\"outlinewidth\":0,\"ticks\":\"\"},\"colorscale\":[[0.0,\"#0d0887\"],[0.1111111111111111,\"#46039f\"],[0.2222222222222222,\"#7201a8\"],[0.3333333333333333,\"#9c179e\"],[0.4444444444444444,\"#bd3786\"],[0.5555555555555556,\"#d8576b\"],[0.6666666666666666,\"#ed7953\"],[0.7777777777777778,\"#fb9f3a\"],[0.8888888888888888,\"#fdca26\"],[1.0,\"#f0f921\"]],\"type\":\"surface\"}],\"table\":[{\"cells\":{\"fill\":{\"color\":\"#EBF0F8\"},\"line\":{\"color\":\"white\"}},\"header\":{\"fill\":{\"color\":\"#C8D4E3\"},\"line\":{\"color\":\"white\"}},\"type\":\"table\"}]},\"layout\":{\"annotationdefaults\":{\"arrowcolor\":\"#2a3f5f\",\"arrowhead\":0,\"arrowwidth\":1},\"autotypenumbers\":\"strict\",\"coloraxis\":{\"colorbar\":{\"outlinewidth\":0,\"ticks\":\"\"}},\"colorscale\":{\"diverging\":[[0,\"#8e0152\"],[0.1,\"#c51b7d\"],[0.2,\"#de77ae\"],[0.3,\"#f1b6da\"],[0.4,\"#fde0ef\"],[0.5,\"#f7f7f7\"],[0.6,\"#e6f5d0\"],[0.7,\"#b8e186\"],[0.8,\"#7fbc41\"],[0.9,\"#4d9221\"],[1,\"#276419\"]],\"sequential\":[[0.0,\"#0d0887\"],[0.1111111111111111,\"#46039f\"],[0.2222222222222222,\"#7201a8\"],[0.3333333333333333,\"#9c179e\"],[0.4444444444444444,\"#bd3786\"],[0.5555555555555556,\"#d8576b\"],[0.6666666666666666,\"#ed7953\"],[0.7777777777777778,\"#fb9f3a\"],[0.8888888888888888,\"#fdca26\"],[1.0,\"#f0f921\"]],\"sequentialminus\":[[0.0,\"#0d0887\"],[0.1111111111111111,\"#46039f\"],[0.2222222222222222,\"#7201a8\"],[0.3333333333333333,\"#9c179e\"],[0.4444444444444444,\"#bd3786\"],[0.5555555555555556,\"#d8576b\"],[0.6666666666666666,\"#ed7953\"],[0.7777777777777778,\"#fb9f3a\"],[0.8888888888888888,\"#fdca26\"],[1.0,\"#f0f921\"]]},\"colorway\":[\"#636efa\",\"#EF553B\",\"#00cc96\",\"#ab63fa\",\"#FFA15A\",\"#19d3f3\",\"#FF6692\",\"#B6E880\",\"#FF97FF\",\"#FECB52\"],\"font\":{\"color\":\"#2a3f5f\"},\"geo\":{\"bgcolor\":\"white\",\"lakecolor\":\"white\",\"landcolor\":\"#E5ECF6\",\"showlakes\":true,\"showland\":true,\"subunitcolor\":\"white\"},\"hoverlabel\":{\"align\":\"left\"},\"hovermode\":\"closest\",\"mapbox\":{\"style\":\"light\"},\"paper_bgcolor\":\"white\",\"plot_bgcolor\":\"#E5ECF6\",\"polar\":{\"angularaxis\":{\"gridcolor\":\"white\",\"linecolor\":\"white\",\"ticks\":\"\"},\"bgcolor\":\"#E5ECF6\",\"radialaxis\":{\"gridcolor\":\"white\",\"linecolor\":\"white\",\"ticks\":\"\"}},\"scene\":{\"xaxis\":{\"backgroundcolor\":\"#E5ECF6\",\"gridcolor\":\"white\",\"gridwidth\":2,\"linecolor\":\"white\",\"showbackground\":true,\"ticks\":\"\",\"zerolinecolor\":\"white\"},\"yaxis\":{\"backgroundcolor\":\"#E5ECF6\",\"gridcolor\":\"white\",\"gridwidth\":2,\"linecolor\":\"white\",\"showbackground\":true,\"ticks\":\"\",\"zerolinecolor\":\"white\"},\"zaxis\":{\"backgroundcolor\":\"#E5ECF6\",\"gridcolor\":\"white\",\"gridwidth\":2,\"linecolor\":\"white\",\"showbackground\":true,\"ticks\":\"\",\"zerolinecolor\":\"white\"}},\"shapedefaults\":{\"line\":{\"color\":\"#2a3f5f\"}},\"ternary\":{\"aaxis\":{\"gridcolor\":\"white\",\"linecolor\":\"white\",\"ticks\":\"\"},\"baxis\":{\"gridcolor\":\"white\",\"linecolor\":\"white\",\"ticks\":\"\"},\"bgcolor\":\"#E5ECF6\",\"caxis\":{\"gridcolor\":\"white\",\"linecolor\":\"white\",\"ticks\":\"\"}},\"title\":{\"x\":0.05},\"xaxis\":{\"automargin\":true,\"gridcolor\":\"white\",\"linecolor\":\"white\",\"ticks\":\"\",\"title\":{\"standoff\":15},\"zerolinecolor\":\"white\",\"zerolinewidth\":2},\"yaxis\":{\"automargin\":true,\"gridcolor\":\"white\",\"linecolor\":\"white\",\"ticks\":\"\",\"title\":{\"standoff\":15},\"zerolinecolor\":\"white\",\"zerolinewidth\":2}}},\"xaxis\":{\"anchor\":\"y\",\"domain\":[0.0,1.0],\"title\":{\"text\":\"MSA\"}},\"yaxis\":{\"anchor\":\"x\",\"domain\":[0.0,1.0],\"title\":{\"text\":\"Percent Delta\"}},\"coloraxis\":{\"colorbar\":{\"title\":{\"text\":\"Percent Delta\"}},\"colorscale\":[[0.0,\"rgb(103,0,31)\"],[0.1,\"rgb(178,24,43)\"],[0.2,\"rgb(214,96,77)\"],[0.3,\"rgb(244,165,130)\"],[0.4,\"rgb(253,219,199)\"],[0.5,\"rgb(247,247,247)\"],[0.6,\"rgb(209,229,240)\"],[0.7,\"rgb(146,197,222)\"],[0.8,\"rgb(67,147,195)\"],[0.9,\"rgb(33,102,172)\"],[1.0,\"rgb(5,48,97)\"]],\"cmin\":-20,\"cmax\":0},\"legend\":{\"tracegroupgap\":0},\"title\":{\"text\":\"2022 Price Feed Peak Compared to Current Values (11/28/22)\"},\"barmode\":\"relative\",\"height\":500,\"width\":900},                        {\"responsive\": true}                    ).then(function(){\n",
              "                            \n",
              "var gd = document.getElementById('a63dcc49-0947-4d28-b35a-02b3ac99bc0a');\n",
              "var x = new MutationObserver(function (mutations, observer) {{\n",
              "        var display = window.getComputedStyle(gd).display;\n",
              "        if (!display || display === 'none') {{\n",
              "            console.log([gd, 'removed!']);\n",
              "            Plotly.purge(gd);\n",
              "            observer.disconnect();\n",
              "        }}\n",
              "}});\n",
              "\n",
              "// Listen for the removal of the full notebook cells\n",
              "var notebookContainer = gd.closest('#notebook-container');\n",
              "if (notebookContainer) {{\n",
              "    x.observe(notebookContainer, {childList: true});\n",
              "}}\n",
              "\n",
              "// Listen for the clearing of the current output cell\n",
              "var outputEl = gd.closest('.output');\n",
              "if (outputEl) {{\n",
              "    x.observe(outputEl, {childList: true});\n",
              "}}\n",
              "\n",
              "                        })                };                            </script>        </div>\n",
              "</body>\n",
              "</html>"
            ]
          },
          "metadata": {}
        }
      ]
    }
  ]
}