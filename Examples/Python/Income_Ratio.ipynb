{
  "nbformat": 4,
  "nbformat_minor": 0,
  "metadata": {
    "colab": {
      "provenance": [],
      "include_colab_link": true
    },
    "kernelspec": {
      "name": "python3",
      "display_name": "Python 3"
    },
    "language_info": {
      "name": "python"
    }
  },
  "cells": [
    {
      "cell_type": "markdown",
      "metadata": {
        "id": "view-in-github",
        "colab_type": "text"
      },
      "source": [
        "<a href=\"https://colab.research.google.com/github/zshamroukh/Colab/blob/main/Examples/Python/Income_Ratio.ipynb\" target=\"_parent\"><img src=\"https://colab.research.google.com/assets/colab-badge.svg\" alt=\"Open In Colab\"/></a>"
      ]
    },
    {
      "cell_type": "markdown",
      "source": [
        "# Contextual Insights in 3 Steps via the Parcl Labs API"
      ],
      "metadata": {
        "id": "6STqmenOExTF"
      }
    },
    {
      "cell_type": "markdown",
      "source": [
        "#Step 1: Register for the API"
      ],
      "metadata": {
        "id": "UedNEQs7FLwC"
      }
    },
    {
      "cell_type": "markdown",
      "source": [
        "You can retrieve Parcl Labs API data with only a couple lines of GraphQL code. For demonstration purposes here we will show you a use case using Python, one of the most popular programming languages for data analysis, but the API can be used in combination with your favorite tech stack. Once you’ve received your key, by signing up [here](https://www.parcllabs.com/contact?utm_source=ParclLabs&utm_medium=Blog&utm_campaign=API-USE-CASE-BLOG) for free, you can store it as a variable in Python along with the API URL:"
      ],
      "metadata": {
        "id": "inLvhxoukRFc"
      }
    },
    {
      "cell_type": "code",
      "execution_count": null,
      "metadata": {
        "id": "73hbhtKcBp3e"
      },
      "outputs": [],
      "source": [
        "#Importing the relevant libraries\n",
        "import os\n",
        "import requests\n",
        "import pandas as pd\n",
        "import plotly.express as px\n",
        "\n",
        "#Storing the API credentials as an environment variable\n",
        "url = \"https://api-pilot.parcllabs.com/v1/graphql\"\n",
        "# to set the API key as an environment variable in your CLI issue the following command on MacOS/Linux OS's: export PARCL_LABS_API_PILOT_KEY=\"INSERT_API_KEY_HERE\"\n",
        "bearer_token = os.environ['PARCL_LABS_API_PILOT_KEY']"
      ]
    },
    {
      "cell_type": "markdown",
      "source": [
        "# Step 2: Define the GraphQL query"
      ],
      "metadata": {
        "id": "JyI7fclNFnt_"
      }
    },
    {
      "cell_type": "markdown",
      "source": [
        "Leveraging the Parcl Labs API, we can provide context local context on the Phoenix real estate market by examining the income to price feed ratio in each city in the MSA. Context specific insights allows home buyers and investors to make informed decisions about the market."
      ],
      "metadata": {
        "id": "gCY3Ay81kaCT"
      }
    },
    {
      "cell_type": "markdown",
      "source": [
        "First we name our query, in this case PHX_INCOME_BY_PLPF, and then we can query all cities within the “Phoenix-Mesa-Chandler, AZ” MSA from the CITY table (see the Parcl Labs API [docs](https://docs.parcllabs.com/docs/msa) for a comprehensive list of geographies and objects available in the API)."
      ],
      "metadata": {
        "id": "gfC_Elc71RqZ"
      }
    },
    {
      "cell_type": "markdown",
      "source": [
        "After defining the MSA and level of geography, the columns we output from the CITY table are CITY_NAME and PARCL_ID (our unique identifier of different levels of geography). Within the CITY geographies is a nested table, census, containing the income data. In the example below we query census at the geography we defined with a parameter of year equal to 2020 (there are census values for every year and we only want one population value for each category). The the price feed table is also nested under the CITY geography so we lastly grab an average of the price feed over the last 365 days for each city. This is what the query would look like:"
      ],
      "metadata": {
        "id": "mWB6aevAGJT0"
      }
    },
    {
      "cell_type": "code",
      "source": [
        "#Storing the query to get income and the avergae Parcl Price Feed by city over the last year\n",
        "query = \"\"\"\n",
        "query PHX_INCOME_BY_PLPF {\n",
        "  CITY(where: {MSA_NAME: {_eq: \"Phoenix-Mesa-Chandler, AZ\"}}) {\n",
        "    CITY_NAME\n",
        "    PARCL_ID\n",
        "    census(where: {YEAR: {_eq: 2020}}) {\n",
        "      INCOME_MEDIAN\n",
        "    }\n",
        "    parcl_price_feed_aggregate(where: {PARCL_PRICE_FEED: {_gt: 30}}, order_by: {DATE: desc}, limit: 365) {\n",
        "      aggregate {\n",
        "      \tavg {\n",
        "          PARCL_PRICE_FEED\n",
        "        }\n",
        "      }\n",
        "    }\n",
        "\t}\n",
        "}\n",
        "\"\"\""
      ],
      "metadata": {
        "id": "EvDB5njGZzIi"
      },
      "execution_count": null,
      "outputs": []
    },
    {
      "cell_type": "markdown",
      "source": [
        "#Step 3: Call the API and visualize the results"
      ],
      "metadata": {
        "id": "uWj-RCwNHY16"
      }
    },
    {
      "cell_type": "markdown",
      "source": [
        "Once you have plugged in your query, the URL and API key you can call the API with Python:"
      ],
      "metadata": {
        "id": "sYc8E5nvkfBu"
      }
    },
    {
      "cell_type": "code",
      "source": [
        "# Call the API using our query and credentials\n",
        "response = requests.post(\n",
        "   url=url,\n",
        "   json={\n",
        "     \"query\": query\n",
        "   },\n",
        "   headers={\n",
        "     \"Authorization\": f\"Bearer {bearer_token}\",\n",
        "     'content-type': \"application/json\"\n",
        "   }\n",
        ")\n",
        " \n",
        "# Parse the JSON response to native Python object\n",
        "out = response.json()\n",
        "data = out['data']['CITY']"
      ],
      "metadata": {
        "id": "se_sRPsjkjhc"
      },
      "execution_count": null,
      "outputs": []
    },
    {
      "cell_type": "markdown",
      "source": [
        "The next step is to flatten the JSON response into a dataframe and divide income by the price feed to get the income to price feed ratio:"
      ],
      "metadata": {
        "id": "emSuyujXksu_"
      }
    },
    {
      "cell_type": "code",
      "source": [
        "#Pull the data into a dataframe and find the ratio \n",
        "PHX_PPF_INCOME_RATIO_df = pd.json_normalize(\n",
        "    data,\n",
        "    'census',\n",
        "    ['CITY_NAME', 'PARCL_ID', ['parcl_price_feed_aggregate', 'aggregate', 'avg', 'PARCL_PRICE_FEED']]\n",
        ")\n",
        "PHX_PPF_INCOME_RATIO_df['Income Price Feed Ratio'] = PHX_PPF_INCOME_RATIO_df['INCOME_MEDIAN'] / PHX_PPF_INCOME_RATIO_df['parcl_price_feed_aggregate.aggregate.avg.PARCL_PRICE_FEED']\n",
        "\n",
        "TOP_N_CITIES = 15\n",
        "PHX_PPF_INCOME_RATIO_df = PHX_PPF_INCOME_RATIO_df.sort_values(by=['Income Price Feed Ratio'], ascending=False).head(TOP_N_CITIES)\n",
        "\n",
        "print(PHX_PPF_INCOME_RATIO_df)"
      ],
      "metadata": {
        "id": "89yYfFFfku5m",
        "colab": {
          "base_uri": "https://localhost:8080/"
        },
        "outputId": "333ad56b-33d1-4f15-bc4f-c023d597b8b6"
      },
      "execution_count": null,
      "outputs": [
        {
          "output_type": "stream",
          "name": "stdout",
          "text": [
            "    INCOME_MEDIAN          CITY_NAME PARCL_ID  \\\n",
            "24          40081          Winkelman  5386851   \n",
            "82          44775        Dudleyville  5386993   \n",
            "37          44775            Mammoth  5386881   \n",
            "15          52292             Kearny  5386880   \n",
            "60          62885        Wintersburg  5387252   \n",
            "70          52721             Aguila  5386890   \n",
            "48          65741           Red Rock  5387092   \n",
            "23          96737        Citrus Park  5386930   \n",
            "9           70543         Morristown  5387061   \n",
            "47          40769         San Manuel  5387103   \n",
            "50          62099      Cactus Forest  5386967   \n",
            "72          57578           Wittmann  5387253   \n",
            "64          52292           Superior  5386885   \n",
            "71          56836          Guadalupe  5386859   \n",
            "58          68186  Black Canyon City  5386950   \n",
            "\n",
            "   parcl_price_feed_aggregate.aggregate.avg.PARCL_PRICE_FEED  \\\n",
            "24                                          37.103848          \n",
            "82                                          49.589666          \n",
            "37                                          51.387211          \n",
            "15                                          67.220594          \n",
            "60                                          86.670552          \n",
            "70                                          85.062682          \n",
            "48                                         117.679324          \n",
            "23                                         179.300565          \n",
            "9                                          131.933947          \n",
            "47                                           76.68239          \n",
            "50                                         120.403732          \n",
            "72                                         115.256445          \n",
            "64                                         108.659948          \n",
            "71                                          121.07868          \n",
            "58                                         145.461402          \n",
            "\n",
            "   Income Price Feed Ratio  \n",
            "24             1080.238365  \n",
            "82              902.909892  \n",
            "37               871.32575  \n",
            "15              777.916367  \n",
            "60              725.563625  \n",
            "70              619.790002  \n",
            "48              558.645291  \n",
            "23              539.524234  \n",
            "9               534.684222  \n",
            "47              531.660532  \n",
            "50               515.75644  \n",
            "72              499.564255  \n",
            "64               481.24448  \n",
            "71              469.413773  \n",
            "58              468.756654  \n"
          ]
        }
      ]
    },
    {
      "cell_type": "markdown",
      "source": [
        "And finally visualize it with your choice of visualization libraries, here we use [Plotly](https://plotly.com/):"
      ],
      "metadata": {
        "id": "2la1zOdaEKtq"
      }
    },
    {
      "cell_type": "code",
      "source": [
        "#Plot the ratio for the 15 most affordable Phoenix Cities\n",
        "PHX_Ratio_fig = px.bar(\n",
        "    PHX_PPF_INCOME_RATIO_df,\n",
        "    x='CITY_NAME',\n",
        "    y='Income Price Feed Ratio',\n",
        "    title='Income to Parcl Labs Price Feed Ratio: Phoenix MSA',\n",
        "    width=900,\n",
        "    height=500,\n",
        "    labels={\"CITY_NAME\": \"City\"}\n",
        ")\n",
        "\n",
        "PHX_Ratio_fig.show()"
      ],
      "metadata": {
        "colab": {
          "base_uri": "https://localhost:8080/",
          "height": 517
        },
        "id": "w_uqBuM-EKgG",
        "outputId": "09daa508-59f6-4bbe-f442-817c3b0759bb"
      },
      "execution_count": null,
      "outputs": [
        {
          "output_type": "display_data",
          "data": {
            "text/html": [
              "<html>\n",
              "<head><meta charset=\"utf-8\" /></head>\n",
              "<body>\n",
              "    <div>            <script src=\"https://cdnjs.cloudflare.com/ajax/libs/mathjax/2.7.5/MathJax.js?config=TeX-AMS-MML_SVG\"></script><script type=\"text/javascript\">if (window.MathJax) {MathJax.Hub.Config({SVG: {font: \"STIX-Web\"}});}</script>                <script type=\"text/javascript\">window.PlotlyConfig = {MathJaxConfig: 'local'};</script>\n",
              "        <script src=\"https://cdn.plot.ly/plotly-2.8.3.min.js\"></script>                <div id=\"ba26b0bf-d184-4df3-a4fb-a75fdc1e7f7f\" class=\"plotly-graph-div\" style=\"height:500px; width:900px;\"></div>            <script type=\"text/javascript\">                                    window.PLOTLYENV=window.PLOTLYENV || {};                                    if (document.getElementById(\"ba26b0bf-d184-4df3-a4fb-a75fdc1e7f7f\")) {                    Plotly.newPlot(                        \"ba26b0bf-d184-4df3-a4fb-a75fdc1e7f7f\",                        [{\"alignmentgroup\":\"True\",\"hovertemplate\":\"City=%{x}<br>Income Price Feed Ratio=%{y}<extra></extra>\",\"legendgroup\":\"\",\"marker\":{\"color\":\"#636efa\",\"pattern\":{\"shape\":\"\"}},\"name\":\"\",\"offsetgroup\":\"\",\"orientation\":\"v\",\"showlegend\":false,\"textposition\":\"auto\",\"x\":[\"Winkelman\",\"Dudleyville\",\"Mammoth\",\"Kearny\",\"Wintersburg\",\"Aguila\",\"Red Rock\",\"Citrus Park\",\"Morristown\",\"San Manuel\",\"Cactus Forest\",\"Wittmann\",\"Superior\",\"Guadalupe\",\"Black Canyon City\"],\"xaxis\":\"x\",\"y\":[1080.2383651191774,902.909891910374,871.3257499374918,777.9163666389668,725.5636250735461,619.7900023260797,558.6452911139703,539.5242337378058,534.6842219174862,531.6605317812205,515.7564401320934,499.5642550220205,481.2444799992229,469.41377259289874,468.75665411745194],\"yaxis\":\"y\",\"type\":\"bar\"}],                        {\"template\":{\"data\":{\"bar\":[{\"error_x\":{\"color\":\"#2a3f5f\"},\"error_y\":{\"color\":\"#2a3f5f\"},\"marker\":{\"line\":{\"color\":\"#E5ECF6\",\"width\":0.5},\"pattern\":{\"fillmode\":\"overlay\",\"size\":10,\"solidity\":0.2}},\"type\":\"bar\"}],\"barpolar\":[{\"marker\":{\"line\":{\"color\":\"#E5ECF6\",\"width\":0.5},\"pattern\":{\"fillmode\":\"overlay\",\"size\":10,\"solidity\":0.2}},\"type\":\"barpolar\"}],\"carpet\":[{\"aaxis\":{\"endlinecolor\":\"#2a3f5f\",\"gridcolor\":\"white\",\"linecolor\":\"white\",\"minorgridcolor\":\"white\",\"startlinecolor\":\"#2a3f5f\"},\"baxis\":{\"endlinecolor\":\"#2a3f5f\",\"gridcolor\":\"white\",\"linecolor\":\"white\",\"minorgridcolor\":\"white\",\"startlinecolor\":\"#2a3f5f\"},\"type\":\"carpet\"}],\"choropleth\":[{\"colorbar\":{\"outlinewidth\":0,\"ticks\":\"\"},\"type\":\"choropleth\"}],\"contour\":[{\"colorbar\":{\"outlinewidth\":0,\"ticks\":\"\"},\"colorscale\":[[0.0,\"#0d0887\"],[0.1111111111111111,\"#46039f\"],[0.2222222222222222,\"#7201a8\"],[0.3333333333333333,\"#9c179e\"],[0.4444444444444444,\"#bd3786\"],[0.5555555555555556,\"#d8576b\"],[0.6666666666666666,\"#ed7953\"],[0.7777777777777778,\"#fb9f3a\"],[0.8888888888888888,\"#fdca26\"],[1.0,\"#f0f921\"]],\"type\":\"contour\"}],\"contourcarpet\":[{\"colorbar\":{\"outlinewidth\":0,\"ticks\":\"\"},\"type\":\"contourcarpet\"}],\"heatmap\":[{\"colorbar\":{\"outlinewidth\":0,\"ticks\":\"\"},\"colorscale\":[[0.0,\"#0d0887\"],[0.1111111111111111,\"#46039f\"],[0.2222222222222222,\"#7201a8\"],[0.3333333333333333,\"#9c179e\"],[0.4444444444444444,\"#bd3786\"],[0.5555555555555556,\"#d8576b\"],[0.6666666666666666,\"#ed7953\"],[0.7777777777777778,\"#fb9f3a\"],[0.8888888888888888,\"#fdca26\"],[1.0,\"#f0f921\"]],\"type\":\"heatmap\"}],\"heatmapgl\":[{\"colorbar\":{\"outlinewidth\":0,\"ticks\":\"\"},\"colorscale\":[[0.0,\"#0d0887\"],[0.1111111111111111,\"#46039f\"],[0.2222222222222222,\"#7201a8\"],[0.3333333333333333,\"#9c179e\"],[0.4444444444444444,\"#bd3786\"],[0.5555555555555556,\"#d8576b\"],[0.6666666666666666,\"#ed7953\"],[0.7777777777777778,\"#fb9f3a\"],[0.8888888888888888,\"#fdca26\"],[1.0,\"#f0f921\"]],\"type\":\"heatmapgl\"}],\"histogram\":[{\"marker\":{\"pattern\":{\"fillmode\":\"overlay\",\"size\":10,\"solidity\":0.2}},\"type\":\"histogram\"}],\"histogram2d\":[{\"colorbar\":{\"outlinewidth\":0,\"ticks\":\"\"},\"colorscale\":[[0.0,\"#0d0887\"],[0.1111111111111111,\"#46039f\"],[0.2222222222222222,\"#7201a8\"],[0.3333333333333333,\"#9c179e\"],[0.4444444444444444,\"#bd3786\"],[0.5555555555555556,\"#d8576b\"],[0.6666666666666666,\"#ed7953\"],[0.7777777777777778,\"#fb9f3a\"],[0.8888888888888888,\"#fdca26\"],[1.0,\"#f0f921\"]],\"type\":\"histogram2d\"}],\"histogram2dcontour\":[{\"colorbar\":{\"outlinewidth\":0,\"ticks\":\"\"},\"colorscale\":[[0.0,\"#0d0887\"],[0.1111111111111111,\"#46039f\"],[0.2222222222222222,\"#7201a8\"],[0.3333333333333333,\"#9c179e\"],[0.4444444444444444,\"#bd3786\"],[0.5555555555555556,\"#d8576b\"],[0.6666666666666666,\"#ed7953\"],[0.7777777777777778,\"#fb9f3a\"],[0.8888888888888888,\"#fdca26\"],[1.0,\"#f0f921\"]],\"type\":\"histogram2dcontour\"}],\"mesh3d\":[{\"colorbar\":{\"outlinewidth\":0,\"ticks\":\"\"},\"type\":\"mesh3d\"}],\"parcoords\":[{\"line\":{\"colorbar\":{\"outlinewidth\":0,\"ticks\":\"\"}},\"type\":\"parcoords\"}],\"pie\":[{\"automargin\":true,\"type\":\"pie\"}],\"scatter\":[{\"marker\":{\"colorbar\":{\"outlinewidth\":0,\"ticks\":\"\"}},\"type\":\"scatter\"}],\"scatter3d\":[{\"line\":{\"colorbar\":{\"outlinewidth\":0,\"ticks\":\"\"}},\"marker\":{\"colorbar\":{\"outlinewidth\":0,\"ticks\":\"\"}},\"type\":\"scatter3d\"}],\"scattercarpet\":[{\"marker\":{\"colorbar\":{\"outlinewidth\":0,\"ticks\":\"\"}},\"type\":\"scattercarpet\"}],\"scattergeo\":[{\"marker\":{\"colorbar\":{\"outlinewidth\":0,\"ticks\":\"\"}},\"type\":\"scattergeo\"}],\"scattergl\":[{\"marker\":{\"colorbar\":{\"outlinewidth\":0,\"ticks\":\"\"}},\"type\":\"scattergl\"}],\"scattermapbox\":[{\"marker\":{\"colorbar\":{\"outlinewidth\":0,\"ticks\":\"\"}},\"type\":\"scattermapbox\"}],\"scatterpolar\":[{\"marker\":{\"colorbar\":{\"outlinewidth\":0,\"ticks\":\"\"}},\"type\":\"scatterpolar\"}],\"scatterpolargl\":[{\"marker\":{\"colorbar\":{\"outlinewidth\":0,\"ticks\":\"\"}},\"type\":\"scatterpolargl\"}],\"scatterternary\":[{\"marker\":{\"colorbar\":{\"outlinewidth\":0,\"ticks\":\"\"}},\"type\":\"scatterternary\"}],\"surface\":[{\"colorbar\":{\"outlinewidth\":0,\"ticks\":\"\"},\"colorscale\":[[0.0,\"#0d0887\"],[0.1111111111111111,\"#46039f\"],[0.2222222222222222,\"#7201a8\"],[0.3333333333333333,\"#9c179e\"],[0.4444444444444444,\"#bd3786\"],[0.5555555555555556,\"#d8576b\"],[0.6666666666666666,\"#ed7953\"],[0.7777777777777778,\"#fb9f3a\"],[0.8888888888888888,\"#fdca26\"],[1.0,\"#f0f921\"]],\"type\":\"surface\"}],\"table\":[{\"cells\":{\"fill\":{\"color\":\"#EBF0F8\"},\"line\":{\"color\":\"white\"}},\"header\":{\"fill\":{\"color\":\"#C8D4E3\"},\"line\":{\"color\":\"white\"}},\"type\":\"table\"}]},\"layout\":{\"annotationdefaults\":{\"arrowcolor\":\"#2a3f5f\",\"arrowhead\":0,\"arrowwidth\":1},\"autotypenumbers\":\"strict\",\"coloraxis\":{\"colorbar\":{\"outlinewidth\":0,\"ticks\":\"\"}},\"colorscale\":{\"diverging\":[[0,\"#8e0152\"],[0.1,\"#c51b7d\"],[0.2,\"#de77ae\"],[0.3,\"#f1b6da\"],[0.4,\"#fde0ef\"],[0.5,\"#f7f7f7\"],[0.6,\"#e6f5d0\"],[0.7,\"#b8e186\"],[0.8,\"#7fbc41\"],[0.9,\"#4d9221\"],[1,\"#276419\"]],\"sequential\":[[0.0,\"#0d0887\"],[0.1111111111111111,\"#46039f\"],[0.2222222222222222,\"#7201a8\"],[0.3333333333333333,\"#9c179e\"],[0.4444444444444444,\"#bd3786\"],[0.5555555555555556,\"#d8576b\"],[0.6666666666666666,\"#ed7953\"],[0.7777777777777778,\"#fb9f3a\"],[0.8888888888888888,\"#fdca26\"],[1.0,\"#f0f921\"]],\"sequentialminus\":[[0.0,\"#0d0887\"],[0.1111111111111111,\"#46039f\"],[0.2222222222222222,\"#7201a8\"],[0.3333333333333333,\"#9c179e\"],[0.4444444444444444,\"#bd3786\"],[0.5555555555555556,\"#d8576b\"],[0.6666666666666666,\"#ed7953\"],[0.7777777777777778,\"#fb9f3a\"],[0.8888888888888888,\"#fdca26\"],[1.0,\"#f0f921\"]]},\"colorway\":[\"#636efa\",\"#EF553B\",\"#00cc96\",\"#ab63fa\",\"#FFA15A\",\"#19d3f3\",\"#FF6692\",\"#B6E880\",\"#FF97FF\",\"#FECB52\"],\"font\":{\"color\":\"#2a3f5f\"},\"geo\":{\"bgcolor\":\"white\",\"lakecolor\":\"white\",\"landcolor\":\"#E5ECF6\",\"showlakes\":true,\"showland\":true,\"subunitcolor\":\"white\"},\"hoverlabel\":{\"align\":\"left\"},\"hovermode\":\"closest\",\"mapbox\":{\"style\":\"light\"},\"paper_bgcolor\":\"white\",\"plot_bgcolor\":\"#E5ECF6\",\"polar\":{\"angularaxis\":{\"gridcolor\":\"white\",\"linecolor\":\"white\",\"ticks\":\"\"},\"bgcolor\":\"#E5ECF6\",\"radialaxis\":{\"gridcolor\":\"white\",\"linecolor\":\"white\",\"ticks\":\"\"}},\"scene\":{\"xaxis\":{\"backgroundcolor\":\"#E5ECF6\",\"gridcolor\":\"white\",\"gridwidth\":2,\"linecolor\":\"white\",\"showbackground\":true,\"ticks\":\"\",\"zerolinecolor\":\"white\"},\"yaxis\":{\"backgroundcolor\":\"#E5ECF6\",\"gridcolor\":\"white\",\"gridwidth\":2,\"linecolor\":\"white\",\"showbackground\":true,\"ticks\":\"\",\"zerolinecolor\":\"white\"},\"zaxis\":{\"backgroundcolor\":\"#E5ECF6\",\"gridcolor\":\"white\",\"gridwidth\":2,\"linecolor\":\"white\",\"showbackground\":true,\"ticks\":\"\",\"zerolinecolor\":\"white\"}},\"shapedefaults\":{\"line\":{\"color\":\"#2a3f5f\"}},\"ternary\":{\"aaxis\":{\"gridcolor\":\"white\",\"linecolor\":\"white\",\"ticks\":\"\"},\"baxis\":{\"gridcolor\":\"white\",\"linecolor\":\"white\",\"ticks\":\"\"},\"bgcolor\":\"#E5ECF6\",\"caxis\":{\"gridcolor\":\"white\",\"linecolor\":\"white\",\"ticks\":\"\"}},\"title\":{\"x\":0.05},\"xaxis\":{\"automargin\":true,\"gridcolor\":\"white\",\"linecolor\":\"white\",\"ticks\":\"\",\"title\":{\"standoff\":15},\"zerolinecolor\":\"white\",\"zerolinewidth\":2},\"yaxis\":{\"automargin\":true,\"gridcolor\":\"white\",\"linecolor\":\"white\",\"ticks\":\"\",\"title\":{\"standoff\":15},\"zerolinecolor\":\"white\",\"zerolinewidth\":2}}},\"xaxis\":{\"anchor\":\"y\",\"domain\":[0.0,1.0],\"title\":{\"text\":\"City\"}},\"yaxis\":{\"anchor\":\"x\",\"domain\":[0.0,1.0],\"title\":{\"text\":\"Income Price Feed Ratio\"}},\"legend\":{\"tracegroupgap\":0},\"title\":{\"text\":\"Income to Parcl Labs Price Feed Ratio: Phoenix MSA\"},\"barmode\":\"relative\",\"height\":500,\"width\":900},                        {\"responsive\": true}                    ).then(function(){\n",
              "                            \n",
              "var gd = document.getElementById('ba26b0bf-d184-4df3-a4fb-a75fdc1e7f7f');\n",
              "var x = new MutationObserver(function (mutations, observer) {{\n",
              "        var display = window.getComputedStyle(gd).display;\n",
              "        if (!display || display === 'none') {{\n",
              "            console.log([gd, 'removed!']);\n",
              "            Plotly.purge(gd);\n",
              "            observer.disconnect();\n",
              "        }}\n",
              "}});\n",
              "\n",
              "// Listen for the removal of the full notebook cells\n",
              "var notebookContainer = gd.closest('#notebook-container');\n",
              "if (notebookContainer) {{\n",
              "    x.observe(notebookContainer, {childList: true});\n",
              "}}\n",
              "\n",
              "// Listen for the clearing of the current output cell\n",
              "var outputEl = gd.closest('.output');\n",
              "if (outputEl) {{\n",
              "    x.observe(outputEl, {childList: true});\n",
              "}}\n",
              "\n",
              "                        })                };                            </script>        </div>\n",
              "</body>\n",
              "</html>"
            ]
          },
          "metadata": {}
        }
      ]
    }
  ]
}