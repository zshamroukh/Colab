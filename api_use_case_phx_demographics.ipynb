{
  "nbformat": 4,
  "nbformat_minor": 0,
  "metadata": {
    "colab": {
      "provenance": [],
      "include_colab_link": true
    },
    "kernelspec": {
      "name": "python3",
      "display_name": "Python 3"
    },
    "language_info": {
      "name": "python"
    }
  },
  "cells": [
    {
      "cell_type": "markdown",
      "metadata": {
        "id": "view-in-github",
        "colab_type": "text"
      },
      "source": [
        "<a href=\"https://colab.research.google.com/github/zshamroukh/Colab/blob/main/api_use_case_phx_demographics.ipynb\" target=\"_parent\"><img src=\"https://colab.research.google.com/assets/colab-badge.svg\" alt=\"Open In Colab\"/></a>"
      ]
    },
    {
      "cell_type": "markdown",
      "source": [
        "# City Level Demographic Insights in 3 Steps via the Parcl Labs API"
      ],
      "metadata": {
        "id": "6STqmenOExTF"
      }
    },
    {
      "cell_type": "markdown",
      "source": [
        "#Step 1: Register for the API"
      ],
      "metadata": {
        "id": "UedNEQs7FLwC"
      }
    },
    {
      "cell_type": "markdown",
      "source": [
        "You can retrieve Parcl Labs API data with only a couple lines of GraphQL code. For demonstration purposes here we will show you a use case using Python, one of the most popular programming languages for data analysis, but the API can be used in combination with your favorite tech stack. Once you’ve received your key, by signing up [here](https://www.parcllabs.com/contact?utm_source=ParclLabs&utm_medium=Blog&utm_campaign=API-USE-CASE-BLOG) for free, you can store it as a variable in Python along with the API URL:"
      ],
      "metadata": {
        "id": "inLvhxoukRFc"
      }
    },
    {
      "cell_type": "code",
      "execution_count": null,
      "metadata": {
        "id": "73hbhtKcBp3e"
      },
      "outputs": [],
      "source": [
        "import os\n",
        "import requests\n",
        "import pandas as pd\n",
        "import plotly.express as px\n",
        "\n",
        "# Storing the API credentials as an environment variable\n",
        "url = \"https://api-pilot.parcllabs.com/v1/graphql\"\n",
        "bearer_token = os.environ['PARCL_LABS_API_PILOT_KEY']"
      ]
    },
    {
      "cell_type": "markdown",
      "source": [
        "# Step 2: Define the GraphQL query"
      ],
      "metadata": {
        "id": "JyI7fclNFnt_"
      }
    },
    {
      "cell_type": "markdown",
      "source": [
        "In this example we will look into leveraging the API to understand the demographic breakdowns of the Phoenix Metropolitan Area. First we name our query, in this case PHX_DEMOGRAPHICS, and then we can query all cities within the “Phoenix-Mesa-Chandler, AZ” MSA from the CITY table (see the Parcl Labs API [docs](https://docs.parcllabs.com/docs/msa) for a comprehensive list of geographies and objects available in the API)."
      ],
      "metadata": {
        "id": "gCY3Ay81kaCT"
      }
    },
    {
      "cell_type": "markdown",
      "source": [
        "After defining the MSA, the columns we output from the CITY table are CITY_NAME and PARCL_ID (our unique identifier of different levels of geography). Within the CITY geographies is a nested table, census, containing the demographic data. In the example below we query census at the geography we defined with a parameter of year equal to 2020 (there are census values for every year and we only want one population value for each category). Finally we can choose the variables to pull from census, in this case: total population, male and female baby boomer population, male and female GenZ population, and male and female millennial population. This is what the query would look like:"
      ],
      "metadata": {
        "id": "mWB6aevAGJT0"
      }
    },
    {
      "cell_type": "code",
      "source": [
        "#Storing the query to get the Demographic infor for the PHX MSA in 2020\n",
        "query = \"\"\"\n",
        "query PHX_DEMOGRAPHICS {\n",
        "  CITY(where: {MSA_NAME: {_eq: \"Phoenix-Mesa-Chandler, AZ\"}}) {\n",
        "    CITY_NAME\n",
        "    PARCL_ID\n",
        "    census(where: {YEAR: {_eq: 2020}}) {\n",
        "      POP_TOTAL\n",
        "      Boomers_Male_Population\n",
        "      Boomers_Female_Population\n",
        "      Gen_Z_Male_Population\n",
        "      Gen_Z_Female_Population\n",
        "      Millennial_Female\n",
        "      Millennial_Male_Population\n",
        "  \t}\n",
        "\t}\n",
        "}\n",
        "\"\"\""
      ],
      "metadata": {
        "id": "EvDB5njGZzIi"
      },
      "execution_count": null,
      "outputs": []
    },
    {
      "cell_type": "markdown",
      "source": [
        "#Step 3: Call the API and visualize the results"
      ],
      "metadata": {
        "id": "uWj-RCwNHY16"
      }
    },
    {
      "cell_type": "markdown",
      "source": [
        "Once you have plugged in your query, the URL and API key you can call the API with Python:"
      ],
      "metadata": {
        "id": "sYc8E5nvkfBu"
      }
    },
    {
      "cell_type": "code",
      "source": [
        "# Call the API using our query and credentials\n",
        "response = requests.post(\n",
        "   url=url,\n",
        "   json={\n",
        "     \"query\": query\n",
        "   },\n",
        "   headers={\n",
        "     \"Authorization\": f\"Bearer {bearer_token}\",\n",
        "     'content-type': \"application/json\"\n",
        "   }\n",
        ")\n",
        " \n",
        "# Parse the JSON response to native Python object\n",
        "out = response.json()\n",
        "data = out['data']['CITY']"
      ],
      "metadata": {
        "id": "se_sRPsjkjhc"
      },
      "execution_count": null,
      "outputs": []
    },
    {
      "cell_type": "markdown",
      "source": [
        "The next step is to flatten the JSON response into a dataframe and aggregate the demographic columns to drill into population by generation:"
      ],
      "metadata": {
        "id": "emSuyujXksu_"
      }
    },
    {
      "cell_type": "code",
      "source": [
        "# Aggregate the Demographic Columns for visualization\n",
        "PHX_DEMO_df = pd.json_normalize(data, 'census', ['CITY_NAME'])\n",
        "PHX_DEMO_df['Boomer Population'] = PHX_DEMO_df['Boomers_Male_Population'] + PHX_DEMO_df['Boomers_Female_Population']\n",
        "PHX_DEMO_df['Millennial Population'] = PHX_DEMO_df['Millennial_Male_Population'] + PHX_DEMO_df['Millennial_Female']\n",
        "PHX_DEMO_df['GenZ Population'] = PHX_DEMO_df['Gen_Z_Male_Population'] + PHX_DEMO_df['Gen_Z_Female_Population']\n",
        "\n",
        "PHX_DEMO_df_clean = PHX_DEMO_df.sort_values(by=['POP_TOTAL'], ascending=False).head(10)\n",
        "\n",
        "print(PHX_DEMO_df_clean)"
      ],
      "metadata": {
        "id": "89yYfFFfku5m",
        "colab": {
          "base_uri": "https://localhost:8080/"
        },
        "outputId": "3b4f2c60-9443-4959-fb19-c07261d97cce"
      },
      "execution_count": null,
      "outputs": [
        {
          "output_type": "stream",
          "name": "stdout",
          "text": [
            "    POP_TOTAL  Boomers_Male_Population  Boomers_Female_Population  \\\n",
            "0     1919172                   169927                     183223   \n",
            "76     698136                    70774                      79521   \n",
            "87     472180                    42425                      45884   \n",
            "50     376936                    30171                      34576   \n",
            "70     371021                    51642                      55196   \n",
            "18     342427                    30841                      37444   \n",
            "6      327886                    38051                      44098   \n",
            "62     314237                    25264                      28294   \n",
            "74     240948                    27893                      34058   \n",
            "27     170648                    16814                      17672   \n",
            "\n",
            "    Gen_Z_Male_Population  Gen_Z_Female_Population  Millennial_Female  \\\n",
            "0                  206864                   197776             215912   \n",
            "76                  70288                    65205              71710   \n",
            "87                  53126                    53604              48019   \n",
            "50                  43090                    41329              38955   \n",
            "70                  28058                    27163              34161   \n",
            "18                  32463                    32085              36934   \n",
            "6                   30939                    28306              30645   \n",
            "62                  40950                    36819              41246   \n",
            "74                  20463                    20481              18848   \n",
            "27                  19035                    16130              17785   \n",
            "\n",
            "    Millennial_Male_Population   CITY_NAME  Boomer Population  \\\n",
            "0                       220749     Phoenix             353150   \n",
            "76                       75075        Mesa             150295   \n",
            "87                       49201    Glendale              88309   \n",
            "50                       37782     Gilbert              64747   \n",
            "70                       37834  Scottsdale             106838   \n",
            "18                       37934    Chandler              68285   \n",
            "6                        29720      Peoria              82149   \n",
            "62                       49630       Tempe              53558   \n",
            "74                       17124    Surprise              61951   \n",
            "27                       18530    Goodyear              34486   \n",
            "\n",
            "    Millennial Population  GenZ Population  \n",
            "0                  436661           404640  \n",
            "76                 146785           135493  \n",
            "87                  97220           106730  \n",
            "50                  76737            84419  \n",
            "70                  71995            55221  \n",
            "18                  74868            64548  \n",
            "6                   60365            59245  \n",
            "62                  90876            77769  \n",
            "74                  35972            40944  \n",
            "27                  36315            35165  \n"
          ]
        }
      ]
    },
    {
      "cell_type": "markdown",
      "source": [
        "And finally visualize it with your choice of visualization libraries, here we use [Plotly](https://plotly.com/):"
      ],
      "metadata": {
        "id": "2la1zOdaEKtq"
      }
    },
    {
      "cell_type": "code",
      "source": [
        "#Plot the Demographics for the top 10 Phoenix Cities\n",
        "PHX_DEMO_fig = px.bar(PHX_DEMO_df_clean, x='CITY_NAME',\n",
        "                y=['Boomer Population', 'GenZ Population', \"Millennial Population\"],\n",
        "                title='Population by City and Generation: Phoenix MSA',\n",
        "                width=900, height=500,\n",
        "                labels={\"CITY_NAME\": \"City\"}\n",
        "                )\n",
        "\n",
        "#PHX_DEMO_fig.update_traces(line_color='#4882db')\n",
        "PHX_DEMO_fig.update_layout(\n",
        "    yaxis=dict(title='Population'),\n",
        "    barmode='group',\n",
        "    xaxis={'categoryorder':'total descending'},\n",
        "    legend=dict(title=None),\n",
        "    bargap=0.15,\n",
        "    bargroupgap=0.1\n",
        ")\n",
        "\n",
        "PHX_DEMO_fig.show()"
      ],
      "metadata": {
        "colab": {
          "base_uri": "https://localhost:8080/",
          "height": 517
        },
        "id": "w_uqBuM-EKgG",
        "outputId": "49154492-b884-4276-c80d-7a7b78f20aac"
      },
      "execution_count": null,
      "outputs": [
        {
          "output_type": "display_data",
          "data": {
            "text/html": [
              "<html>\n",
              "<head><meta charset=\"utf-8\" /></head>\n",
              "<body>\n",
              "    <div>            <script src=\"https://cdnjs.cloudflare.com/ajax/libs/mathjax/2.7.5/MathJax.js?config=TeX-AMS-MML_SVG\"></script><script type=\"text/javascript\">if (window.MathJax) {MathJax.Hub.Config({SVG: {font: \"STIX-Web\"}});}</script>                <script type=\"text/javascript\">window.PlotlyConfig = {MathJaxConfig: 'local'};</script>\n",
              "        <script src=\"https://cdn.plot.ly/plotly-2.8.3.min.js\"></script>                <div id=\"4d5d3593-b894-430b-b867-0bb40d736455\" class=\"plotly-graph-div\" style=\"height:500px; width:900px;\"></div>            <script type=\"text/javascript\">                                    window.PLOTLYENV=window.PLOTLYENV || {};                                    if (document.getElementById(\"4d5d3593-b894-430b-b867-0bb40d736455\")) {                    Plotly.newPlot(                        \"4d5d3593-b894-430b-b867-0bb40d736455\",                        [{\"alignmentgroup\":\"True\",\"hovertemplate\":\"variable=Boomer Population<br>City=%{x}<br>value=%{y}<extra></extra>\",\"legendgroup\":\"Boomer Population\",\"marker\":{\"color\":\"#636efa\",\"pattern\":{\"shape\":\"\"}},\"name\":\"Boomer Population\",\"offsetgroup\":\"Boomer Population\",\"orientation\":\"v\",\"showlegend\":true,\"textposition\":\"auto\",\"x\":[\"Phoenix\",\"Mesa\",\"Glendale\",\"Gilbert\",\"Scottsdale\",\"Chandler\",\"Peoria\",\"Tempe\",\"Surprise\",\"Goodyear\"],\"xaxis\":\"x\",\"y\":[353150,150295,88309,64747,106838,68285,82149,53558,61951,34486],\"yaxis\":\"y\",\"type\":\"bar\"},{\"alignmentgroup\":\"True\",\"hovertemplate\":\"variable=GenZ Population<br>City=%{x}<br>value=%{y}<extra></extra>\",\"legendgroup\":\"GenZ Population\",\"marker\":{\"color\":\"#EF553B\",\"pattern\":{\"shape\":\"\"}},\"name\":\"GenZ Population\",\"offsetgroup\":\"GenZ Population\",\"orientation\":\"v\",\"showlegend\":true,\"textposition\":\"auto\",\"x\":[\"Phoenix\",\"Mesa\",\"Glendale\",\"Gilbert\",\"Scottsdale\",\"Chandler\",\"Peoria\",\"Tempe\",\"Surprise\",\"Goodyear\"],\"xaxis\":\"x\",\"y\":[404640,135493,106730,84419,55221,64548,59245,77769,40944,35165],\"yaxis\":\"y\",\"type\":\"bar\"},{\"alignmentgroup\":\"True\",\"hovertemplate\":\"variable=Millennial Population<br>City=%{x}<br>value=%{y}<extra></extra>\",\"legendgroup\":\"Millennial Population\",\"marker\":{\"color\":\"#00cc96\",\"pattern\":{\"shape\":\"\"}},\"name\":\"Millennial Population\",\"offsetgroup\":\"Millennial Population\",\"orientation\":\"v\",\"showlegend\":true,\"textposition\":\"auto\",\"x\":[\"Phoenix\",\"Mesa\",\"Glendale\",\"Gilbert\",\"Scottsdale\",\"Chandler\",\"Peoria\",\"Tempe\",\"Surprise\",\"Goodyear\"],\"xaxis\":\"x\",\"y\":[436661,146785,97220,76737,71995,74868,60365,90876,35972,36315],\"yaxis\":\"y\",\"type\":\"bar\"}],                        {\"template\":{\"data\":{\"bar\":[{\"error_x\":{\"color\":\"#2a3f5f\"},\"error_y\":{\"color\":\"#2a3f5f\"},\"marker\":{\"line\":{\"color\":\"#E5ECF6\",\"width\":0.5},\"pattern\":{\"fillmode\":\"overlay\",\"size\":10,\"solidity\":0.2}},\"type\":\"bar\"}],\"barpolar\":[{\"marker\":{\"line\":{\"color\":\"#E5ECF6\",\"width\":0.5},\"pattern\":{\"fillmode\":\"overlay\",\"size\":10,\"solidity\":0.2}},\"type\":\"barpolar\"}],\"carpet\":[{\"aaxis\":{\"endlinecolor\":\"#2a3f5f\",\"gridcolor\":\"white\",\"linecolor\":\"white\",\"minorgridcolor\":\"white\",\"startlinecolor\":\"#2a3f5f\"},\"baxis\":{\"endlinecolor\":\"#2a3f5f\",\"gridcolor\":\"white\",\"linecolor\":\"white\",\"minorgridcolor\":\"white\",\"startlinecolor\":\"#2a3f5f\"},\"type\":\"carpet\"}],\"choropleth\":[{\"colorbar\":{\"outlinewidth\":0,\"ticks\":\"\"},\"type\":\"choropleth\"}],\"contour\":[{\"colorbar\":{\"outlinewidth\":0,\"ticks\":\"\"},\"colorscale\":[[0.0,\"#0d0887\"],[0.1111111111111111,\"#46039f\"],[0.2222222222222222,\"#7201a8\"],[0.3333333333333333,\"#9c179e\"],[0.4444444444444444,\"#bd3786\"],[0.5555555555555556,\"#d8576b\"],[0.6666666666666666,\"#ed7953\"],[0.7777777777777778,\"#fb9f3a\"],[0.8888888888888888,\"#fdca26\"],[1.0,\"#f0f921\"]],\"type\":\"contour\"}],\"contourcarpet\":[{\"colorbar\":{\"outlinewidth\":0,\"ticks\":\"\"},\"type\":\"contourcarpet\"}],\"heatmap\":[{\"colorbar\":{\"outlinewidth\":0,\"ticks\":\"\"},\"colorscale\":[[0.0,\"#0d0887\"],[0.1111111111111111,\"#46039f\"],[0.2222222222222222,\"#7201a8\"],[0.3333333333333333,\"#9c179e\"],[0.4444444444444444,\"#bd3786\"],[0.5555555555555556,\"#d8576b\"],[0.6666666666666666,\"#ed7953\"],[0.7777777777777778,\"#fb9f3a\"],[0.8888888888888888,\"#fdca26\"],[1.0,\"#f0f921\"]],\"type\":\"heatmap\"}],\"heatmapgl\":[{\"colorbar\":{\"outlinewidth\":0,\"ticks\":\"\"},\"colorscale\":[[0.0,\"#0d0887\"],[0.1111111111111111,\"#46039f\"],[0.2222222222222222,\"#7201a8\"],[0.3333333333333333,\"#9c179e\"],[0.4444444444444444,\"#bd3786\"],[0.5555555555555556,\"#d8576b\"],[0.6666666666666666,\"#ed7953\"],[0.7777777777777778,\"#fb9f3a\"],[0.8888888888888888,\"#fdca26\"],[1.0,\"#f0f921\"]],\"type\":\"heatmapgl\"}],\"histogram\":[{\"marker\":{\"pattern\":{\"fillmode\":\"overlay\",\"size\":10,\"solidity\":0.2}},\"type\":\"histogram\"}],\"histogram2d\":[{\"colorbar\":{\"outlinewidth\":0,\"ticks\":\"\"},\"colorscale\":[[0.0,\"#0d0887\"],[0.1111111111111111,\"#46039f\"],[0.2222222222222222,\"#7201a8\"],[0.3333333333333333,\"#9c179e\"],[0.4444444444444444,\"#bd3786\"],[0.5555555555555556,\"#d8576b\"],[0.6666666666666666,\"#ed7953\"],[0.7777777777777778,\"#fb9f3a\"],[0.8888888888888888,\"#fdca26\"],[1.0,\"#f0f921\"]],\"type\":\"histogram2d\"}],\"histogram2dcontour\":[{\"colorbar\":{\"outlinewidth\":0,\"ticks\":\"\"},\"colorscale\":[[0.0,\"#0d0887\"],[0.1111111111111111,\"#46039f\"],[0.2222222222222222,\"#7201a8\"],[0.3333333333333333,\"#9c179e\"],[0.4444444444444444,\"#bd3786\"],[0.5555555555555556,\"#d8576b\"],[0.6666666666666666,\"#ed7953\"],[0.7777777777777778,\"#fb9f3a\"],[0.8888888888888888,\"#fdca26\"],[1.0,\"#f0f921\"]],\"type\":\"histogram2dcontour\"}],\"mesh3d\":[{\"colorbar\":{\"outlinewidth\":0,\"ticks\":\"\"},\"type\":\"mesh3d\"}],\"parcoords\":[{\"line\":{\"colorbar\":{\"outlinewidth\":0,\"ticks\":\"\"}},\"type\":\"parcoords\"}],\"pie\":[{\"automargin\":true,\"type\":\"pie\"}],\"scatter\":[{\"marker\":{\"colorbar\":{\"outlinewidth\":0,\"ticks\":\"\"}},\"type\":\"scatter\"}],\"scatter3d\":[{\"line\":{\"colorbar\":{\"outlinewidth\":0,\"ticks\":\"\"}},\"marker\":{\"colorbar\":{\"outlinewidth\":0,\"ticks\":\"\"}},\"type\":\"scatter3d\"}],\"scattercarpet\":[{\"marker\":{\"colorbar\":{\"outlinewidth\":0,\"ticks\":\"\"}},\"type\":\"scattercarpet\"}],\"scattergeo\":[{\"marker\":{\"colorbar\":{\"outlinewidth\":0,\"ticks\":\"\"}},\"type\":\"scattergeo\"}],\"scattergl\":[{\"marker\":{\"colorbar\":{\"outlinewidth\":0,\"ticks\":\"\"}},\"type\":\"scattergl\"}],\"scattermapbox\":[{\"marker\":{\"colorbar\":{\"outlinewidth\":0,\"ticks\":\"\"}},\"type\":\"scattermapbox\"}],\"scatterpolar\":[{\"marker\":{\"colorbar\":{\"outlinewidth\":0,\"ticks\":\"\"}},\"type\":\"scatterpolar\"}],\"scatterpolargl\":[{\"marker\":{\"colorbar\":{\"outlinewidth\":0,\"ticks\":\"\"}},\"type\":\"scatterpolargl\"}],\"scatterternary\":[{\"marker\":{\"colorbar\":{\"outlinewidth\":0,\"ticks\":\"\"}},\"type\":\"scatterternary\"}],\"surface\":[{\"colorbar\":{\"outlinewidth\":0,\"ticks\":\"\"},\"colorscale\":[[0.0,\"#0d0887\"],[0.1111111111111111,\"#46039f\"],[0.2222222222222222,\"#7201a8\"],[0.3333333333333333,\"#9c179e\"],[0.4444444444444444,\"#bd3786\"],[0.5555555555555556,\"#d8576b\"],[0.6666666666666666,\"#ed7953\"],[0.7777777777777778,\"#fb9f3a\"],[0.8888888888888888,\"#fdca26\"],[1.0,\"#f0f921\"]],\"type\":\"surface\"}],\"table\":[{\"cells\":{\"fill\":{\"color\":\"#EBF0F8\"},\"line\":{\"color\":\"white\"}},\"header\":{\"fill\":{\"color\":\"#C8D4E3\"},\"line\":{\"color\":\"white\"}},\"type\":\"table\"}]},\"layout\":{\"annotationdefaults\":{\"arrowcolor\":\"#2a3f5f\",\"arrowhead\":0,\"arrowwidth\":1},\"autotypenumbers\":\"strict\",\"coloraxis\":{\"colorbar\":{\"outlinewidth\":0,\"ticks\":\"\"}},\"colorscale\":{\"diverging\":[[0,\"#8e0152\"],[0.1,\"#c51b7d\"],[0.2,\"#de77ae\"],[0.3,\"#f1b6da\"],[0.4,\"#fde0ef\"],[0.5,\"#f7f7f7\"],[0.6,\"#e6f5d0\"],[0.7,\"#b8e186\"],[0.8,\"#7fbc41\"],[0.9,\"#4d9221\"],[1,\"#276419\"]],\"sequential\":[[0.0,\"#0d0887\"],[0.1111111111111111,\"#46039f\"],[0.2222222222222222,\"#7201a8\"],[0.3333333333333333,\"#9c179e\"],[0.4444444444444444,\"#bd3786\"],[0.5555555555555556,\"#d8576b\"],[0.6666666666666666,\"#ed7953\"],[0.7777777777777778,\"#fb9f3a\"],[0.8888888888888888,\"#fdca26\"],[1.0,\"#f0f921\"]],\"sequentialminus\":[[0.0,\"#0d0887\"],[0.1111111111111111,\"#46039f\"],[0.2222222222222222,\"#7201a8\"],[0.3333333333333333,\"#9c179e\"],[0.4444444444444444,\"#bd3786\"],[0.5555555555555556,\"#d8576b\"],[0.6666666666666666,\"#ed7953\"],[0.7777777777777778,\"#fb9f3a\"],[0.8888888888888888,\"#fdca26\"],[1.0,\"#f0f921\"]]},\"colorway\":[\"#636efa\",\"#EF553B\",\"#00cc96\",\"#ab63fa\",\"#FFA15A\",\"#19d3f3\",\"#FF6692\",\"#B6E880\",\"#FF97FF\",\"#FECB52\"],\"font\":{\"color\":\"#2a3f5f\"},\"geo\":{\"bgcolor\":\"white\",\"lakecolor\":\"white\",\"landcolor\":\"#E5ECF6\",\"showlakes\":true,\"showland\":true,\"subunitcolor\":\"white\"},\"hoverlabel\":{\"align\":\"left\"},\"hovermode\":\"closest\",\"mapbox\":{\"style\":\"light\"},\"paper_bgcolor\":\"white\",\"plot_bgcolor\":\"#E5ECF6\",\"polar\":{\"angularaxis\":{\"gridcolor\":\"white\",\"linecolor\":\"white\",\"ticks\":\"\"},\"bgcolor\":\"#E5ECF6\",\"radialaxis\":{\"gridcolor\":\"white\",\"linecolor\":\"white\",\"ticks\":\"\"}},\"scene\":{\"xaxis\":{\"backgroundcolor\":\"#E5ECF6\",\"gridcolor\":\"white\",\"gridwidth\":2,\"linecolor\":\"white\",\"showbackground\":true,\"ticks\":\"\",\"zerolinecolor\":\"white\"},\"yaxis\":{\"backgroundcolor\":\"#E5ECF6\",\"gridcolor\":\"white\",\"gridwidth\":2,\"linecolor\":\"white\",\"showbackground\":true,\"ticks\":\"\",\"zerolinecolor\":\"white\"},\"zaxis\":{\"backgroundcolor\":\"#E5ECF6\",\"gridcolor\":\"white\",\"gridwidth\":2,\"linecolor\":\"white\",\"showbackground\":true,\"ticks\":\"\",\"zerolinecolor\":\"white\"}},\"shapedefaults\":{\"line\":{\"color\":\"#2a3f5f\"}},\"ternary\":{\"aaxis\":{\"gridcolor\":\"white\",\"linecolor\":\"white\",\"ticks\":\"\"},\"baxis\":{\"gridcolor\":\"white\",\"linecolor\":\"white\",\"ticks\":\"\"},\"bgcolor\":\"#E5ECF6\",\"caxis\":{\"gridcolor\":\"white\",\"linecolor\":\"white\",\"ticks\":\"\"}},\"title\":{\"x\":0.05},\"xaxis\":{\"automargin\":true,\"gridcolor\":\"white\",\"linecolor\":\"white\",\"ticks\":\"\",\"title\":{\"standoff\":15},\"zerolinecolor\":\"white\",\"zerolinewidth\":2},\"yaxis\":{\"automargin\":true,\"gridcolor\":\"white\",\"linecolor\":\"white\",\"ticks\":\"\",\"title\":{\"standoff\":15},\"zerolinecolor\":\"white\",\"zerolinewidth\":2}}},\"xaxis\":{\"anchor\":\"y\",\"domain\":[0.0,1.0],\"title\":{\"text\":\"City\"},\"categoryorder\":\"total descending\"},\"yaxis\":{\"anchor\":\"x\",\"domain\":[0.0,1.0],\"title\":{\"text\":\"Population\"}},\"legend\":{\"title\":{},\"tracegroupgap\":0},\"title\":{\"text\":\"Population by City and Generation: Phoenix MSA\"},\"barmode\":\"group\",\"height\":500,\"width\":900,\"bargap\":0.15,\"bargroupgap\":0.1},                        {\"responsive\": true}                    ).then(function(){\n",
              "                            \n",
              "var gd = document.getElementById('4d5d3593-b894-430b-b867-0bb40d736455');\n",
              "var x = new MutationObserver(function (mutations, observer) {{\n",
              "        var display = window.getComputedStyle(gd).display;\n",
              "        if (!display || display === 'none') {{\n",
              "            console.log([gd, 'removed!']);\n",
              "            Plotly.purge(gd);\n",
              "            observer.disconnect();\n",
              "        }}\n",
              "}});\n",
              "\n",
              "// Listen for the removal of the full notebook cells\n",
              "var notebookContainer = gd.closest('#notebook-container');\n",
              "if (notebookContainer) {{\n",
              "    x.observe(notebookContainer, {childList: true});\n",
              "}}\n",
              "\n",
              "// Listen for the clearing of the current output cell\n",
              "var outputEl = gd.closest('.output');\n",
              "if (outputEl) {{\n",
              "    x.observe(outputEl, {childList: true});\n",
              "}}\n",
              "\n",
              "                        })                };                            </script>        </div>\n",
              "</body>\n",
              "</html>"
            ]
          },
          "metadata": {}
        }
      ]
    }
  ]
}